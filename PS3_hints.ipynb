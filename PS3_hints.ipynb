{
 "cells": [
  {
   "cell_type": "code",
   "execution_count": 1,
   "id": "5cc28456",
   "metadata": {},
   "outputs": [],
   "source": [
    "import numpy as np\n",
    "import matplotlib.pyplot as plt\n",
    "import time\n",
    "# in terminal, do pip install blis to install the below package for fast matrix multiplication\n",
    "from blis.py import gemm"
   ]
  },
  {
   "cell_type": "markdown",
   "id": "1c2123a7",
   "metadata": {},
   "source": [
    "## Some comments on matrix multiplication...\n",
    "\n",
    "You can use the BLIS linear algebra library to speed up matrix multiplication for large, multidimensional matrices.\n",
    "\n",
    "However, make sure to check that the method that you're using is actually appropriate for your problem!\n",
    "\n",
    "It turns out that BLIS is slower than numpy for small matrix size...\n",
    "\n",
    "Of course, if you REALLY want speed, use C++... right?\n",
    "\n"
   ]
  },
  {
   "cell_type": "code",
   "execution_count": 2,
   "id": "b2cb37d4",
   "metadata": {},
   "outputs": [],
   "source": [
    "def blis_gemm_2d(X, W):\n",
    "    \"\"\"\n",
    "    Fast matrix multiplication using blis.py\n",
    "    -------------------------------------------\n",
    "    Inputs:\n",
    "    X: matrix shape (a,b)\n",
    "    W: matrix shape (b,c)\n",
    "    ------------------------------------------\n",
    "    Output:\n",
    "    X /dot W: matrix shape  (a,c)\n",
    "    \"\"\"\n",
    "    C = np.zeros(W.shape)\n",
    "    gemm(X, W, out=C)\n",
    "    \n",
    "    return C"
   ]
  },
  {
   "cell_type": "code",
   "execution_count": 3,
   "id": "9def1e67",
   "metadata": {},
   "outputs": [],
   "source": [
    "def blis_gemm_3d(X, W):\n",
    "    \"\"\"\n",
    "    Fast matrix multiplication using blis.py\n",
    "    -------------------------------------------\n",
    "    Inputs:\n",
    "    X: matrix shape (a,b,c)\n",
    "    W: matrix shape (c,d)\n",
    "    ------------------------------------------\n",
    "    Output:\n",
    "    X /dot W: matrix shape  (a,b,d)\n",
    "    \"\"\"\n",
    "    contain=[]\n",
    "    for i in range(X.shape[0]):\n",
    "        y=gemm(X[i,:,:], W, trans1=False, trans2=False)\n",
    "        contain.append(y)\n",
    "    contain=np.array(contain)\n",
    "    return(contain)"
   ]
  },
  {
   "cell_type": "code",
   "execution_count": 4,
   "id": "83706236",
   "metadata": {},
   "outputs": [],
   "source": [
    "N = 500\n",
    "X = np.random.rand(N,N)\n",
    "Y = np.random.rand(N,N,N)\n"
   ]
  },
  {
   "cell_type": "code",
   "execution_count": 5,
   "id": "06b4613c",
   "metadata": {},
   "outputs": [
    {
     "name": "stdout",
     "output_type": "stream",
     "text": [
      "numpy took 0.019416332244873047 s\n",
      "BLIS took 0.005707740783691406 s\n"
     ]
    }
   ],
   "source": [
    "# 2D: note that numpy is faster!\n",
    "\n",
    "time1 = time.time()\n",
    "np.dot(X,X)\n",
    "time2 = time.time()\n",
    "print(f'numpy took {time2-time1} s')\n",
    "\n",
    "time1 = time.time()\n",
    "blis_gemm_2d(X,X)\n",
    "time2 = time.time()\n",
    "print(f'BLIS took {time2-time1} s')"
   ]
  },
  {
   "cell_type": "code",
   "execution_count": 6,
   "id": "8e1ab5b3",
   "metadata": {},
   "outputs": [
    {
     "name": "stdout",
     "output_type": "stream",
     "text": [
      "numpy took 52.68464422225952 s\n",
      "BLIS took 3.315354824066162 s\n"
     ]
    }
   ],
   "source": [
    "# 3D: BLIS is faster!\n",
    "\n",
    "time1 = time.time()\n",
    "np.dot(Y,X)\n",
    "time2 = time.time()\n",
    "print(f'numpy took {time2-time1} s')\n",
    "\n",
    "time1 = time.time()\n",
    "blis_gemm_3d(Y,X)\n",
    "time2 = time.time()\n",
    "print(f'BLIS took {time2-time1} s')"
   ]
  },
  {
   "cell_type": "markdown",
   "id": "cb17eecd",
   "metadata": {},
   "source": [
    "### Implementation matters!\n",
    "\n",
    "Below I implement the 2D matrix multiplication algorithm naiively in both cython and pure python.\n",
    "\n",
    "Note that the naiive implementations are much slower than numpy dot! But naiive cython is much, much faster than naiive pure python.\n",
    "\n",
    "Lesson: don't reinvent the wheel unless you have to! Use already written algorithms like np.dot and BLIS when you can, it's likely that these are faster than anything you can come up with.\n",
    "\n",
    "However, if you need speed and have to do something novel, use C++. If your code must be in python, use cython to put C++ code in your python scripts. "
   ]
  },
  {
   "cell_type": "code",
   "execution_count": 7,
   "id": "a1bd0767",
   "metadata": {},
   "outputs": [],
   "source": [
    "import c_mult_cython\n",
    "#pass in terminal: python setup.py build_ext --inplace\n",
    "# make sure you download c_mult_cython.pyx and setup.py"
   ]
  },
  {
   "cell_type": "code",
   "execution_count": 8,
   "id": "cadaa592",
   "metadata": {},
   "outputs": [],
   "source": [
    "def matmult(A, B):\n",
    "    C = np.zeros([A.shape[0], B.shape[1]])\n",
    "    for i in range(A.shape[0]):\n",
    "        for j in range(B.shape[1]):\n",
    "            for k in range(A.shape[1]):\n",
    "                C[i,j] += A[i,k]*B[k,j]\n",
    "    return C"
   ]
  },
  {
   "cell_type": "code",
   "execution_count": 9,
   "id": "13f25d12",
   "metadata": {},
   "outputs": [
    {
     "name": "stdout",
     "output_type": "stream",
     "text": [
      "naiive cython took 0.05609846115112305 s\n",
      "numpy dot took 0.0007586479187011719 s\n",
      "naiive numpy took 21.088424682617188 s\n",
      "BLIS took 0.002514362335205078 s\n"
     ]
    }
   ],
   "source": [
    "N = 400\n",
    "X = np.random.rand(N,N)\n",
    "Y = np.random.rand(N,N,N)\n",
    "\n",
    "time1 = time.time()\n",
    "c_mult_cython.c_mult_cython_2d(X,X)\n",
    "time2 = time.time()\n",
    "print(f'naiive cython took {time2-time1} s')\n",
    "\n",
    "time1 = time.time()\n",
    "np.dot(X,X)\n",
    "time2 = time.time()\n",
    "print(f'numpy dot took {time2-time1} s')\n",
    "\n",
    "time1 = time.time()\n",
    "matmult(X,X)\n",
    "time2 = time.time()\n",
    "print(f'naiive numpy took {time2-time1} s')\n",
    "\n",
    "time1 = time.time()\n",
    "blis_gemm_2d(X,X)\n",
    "time2 = time.time()\n",
    "print(f'BLIS took {time2-time1} s')"
   ]
  },
  {
   "cell_type": "markdown",
   "id": "2441622e",
   "metadata": {},
   "source": [
    "## Radioactive decay chain: loop implementation"
   ]
  },
  {
   "cell_type": "code",
   "execution_count": 12,
   "id": "cf1a5c1d",
   "metadata": {},
   "outputs": [
    {
     "data": {
      "image/png": "[encoded data removed]",
      "text/plain": [
       "<Figure size 432x288 with 1 Axes>"
      ]
     },
     "metadata": {
      "needs_background": "light"
     },
     "output_type": "display_data"
    }
   ],
   "source": [
    "NTl = 1000\n",
    "# calculate half lives of elements in seconds\n",
    "hl = 3.053*60 #s\n",
    "\n",
    "# time step is 1 second\n",
    "dt = 1 #s\n",
    "\n",
    "# initial numbers of atoms\n",
    "#NTl = 1000\n",
    "NPb = 0\n",
    "# calculate half lives of elements in seconds\n",
    "hl = 3.053*60 #s\n",
    "\n",
    "# calculate probability that each element will decay in 1 time step\n",
    "p_dt = 1 - 2**(-dt/hl)\n",
    "\n",
    "NTl_list = []\n",
    "NPb_list = []\n",
    "\n",
    "t = np.arange(0,1e4,dt)\n",
    "for ti in t:\n",
    "    NTl_list.append(NTl)\n",
    "    NPb_list.append(NPb)\n",
    "    # start at the bottom of the decay chain to avoid double counting atoms\n",
    "    for i in range(NTl): # calculate how many Pb209 decay into Bi209\n",
    "        if np.random.random()<p_dt:\n",
    "            NTl-=1\n",
    "            NPb+=1\n",
    "\n",
    "plt.plot(t,NTl_list,label='Tl209', zorder = -1)\n",
    "#plt.plot(t,NPb_list,label='Pb209')\n",
    "plt.legend()\n",
    "plt.xlabel('time [s]')\n",
    "plt.ylabel('# of atoms')\n",
    "plt.show()"
   ]
  },
  {
   "cell_type": "markdown",
   "id": "70af24c5",
   "metadata": {},
   "source": [
    "### Dealing with branching: Start at the bottom of the decay chain and work upward to avoid double counting!\n",
    "\n",
    "Pseudocode:\n",
    "\n",
    "for each Bi213 atom: # calculate how many Bi213 decay into Pb209 AND Tl209\n",
    "\n",
    "    if random < p_dt_Bi:\n",
    "    \n",
    "        subtract 1 from Bi213\n",
    "        \n",
    "        if random < 0.9791: # calculate how many Bi213 decay into Pb209\n",
    "        \n",
    "            add 1 to Pb209\n",
    "            \n",
    "        else: # calculate how many Bi213 decay into Tl209\n",
    "        \n",
    "            add 1 to Tl209\n",
    "                "
   ]
  },
  {
   "cell_type": "markdown",
   "id": "426f9474",
   "metadata": {},
   "source": [
    "### On chalkboard: transformation method"
   ]
  },
  {
   "cell_type": "markdown",
   "id": "02c71220",
   "metadata": {},
   "source": [
    "### On chalkboard: Bateman equation"
   ]
  },
  {
   "cell_type": "code",
   "execution_count": null,
   "id": "d6760abb",
   "metadata": {},
   "outputs": [],
   "source": []
  },
  {
   "cell_type": "code",
   "execution_count": null,
   "id": "c43813d6",
   "metadata": {},
   "outputs": [],
   "source": []
  }
 ],
 "metadata": {
  "kernelspec": {
   "display_name": "Python 3",
   "language": "python",
   "name": "python3"
  },
  "language_info": {
   "codemirror_mode": {
    "name": "ipython",
    "version": 3
   },
   "file_extension": ".py",
   "mimetype": "text/x-python",
   "name": "python",
   "nbconvert_exporter": "python",
   "pygments_lexer": "ipython3",
   "version": "3.8.8"
  }
 },
 "nbformat": 4,
 "nbformat_minor": 5
}
