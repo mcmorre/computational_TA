{
 "cells": [
  {
   "cell_type": "code",
   "execution_count": 1,
   "metadata": {},
   "outputs": [],
   "source": [
    "import numpy as np\n",
    "import matplotlib.pyplot as plt"
   ]
  },
  {
   "cell_type": "markdown",
   "metadata": {},
   "source": [
    "# Hints for Problem 1:"
   ]
  },
  {
   "cell_type": "markdown",
   "metadata": {},
   "source": [
    "a.view(some_dtype) or a.view(dtype=some_dtype) constructs a view of the array’s memory with a different data-type."
   ]
  },
  {
   "cell_type": "markdown",
   "metadata": {},
   "source": [
    "SOURCE: https://www.geeksforgeeks.org/ieee-standard-754-floating-point-numbers/\n",
    "\n",
    "85.125\n",
    "\n",
    "85 = 1010101\n",
    "\n",
    "0.125 = 001\n",
    "\n",
    "85.125 = 1010101.001\n",
    "       =1.010101001 x 2^6 \n",
    "       \n",
    "sign = 0 \n",
    "\n",
    "1. Single precision:\n",
    "\n",
    "biased exponent 127+6=133\n",
    "\n",
    "133 = 10000101\n",
    "\n",
    "Normalised mantisa = 010101001\n",
    "\n",
    "we will add 0's to complete the 23 bits\n",
    "\n",
    "The IEEE 754 Single precision is:\n",
    "\n",
    "0 10000101 01010100100000000000000"
   ]
  },
  {
   "cell_type": "code",
   "execution_count": 2,
   "metadata": {},
   "outputs": [],
   "source": [
    "f = np.float32(85.125)\n",
    "int32bits = f.view(np.int32) #convert 32 bit float to 32 bit integer, store the memory it uses"
   ]
  },
  {
   "cell_type": "code",
   "execution_count": 3,
   "metadata": {},
   "outputs": [
    {
     "data": {
      "text/plain": [
       "1118453760"
      ]
     },
     "execution_count": 3,
     "metadata": {},
     "output_type": "execute_result"
    }
   ],
   "source": [
    "int32bits"
   ]
  },
  {
   "cell_type": "code",
   "execution_count": 4,
   "metadata": {},
   "outputs": [
    {
     "name": "stdout",
     "output_type": "stream",
     "text": [
      "01000010101010100100000000000000\n"
     ]
    }
   ],
   "source": [
    "print('{:032b}'.format(int32bits)) # print the 32 bit integer in its binary representation"
   ]
  },
  {
   "cell_type": "markdown",
   "metadata": {},
   "source": [
    "# Hints for Problem 2 and Problem 3:"
   ]
  },
  {
   "cell_type": "markdown",
   "metadata": {},
   "source": [
    "## 1) How to list indices of a cube \n",
    "\n",
    "An example: List the vertices of the unit cube!"
   ]
  },
  {
   "attachments": {
    "Cube_coords.png": {
     "image/png": "[encoded data removed]"
    }
   },
   "cell_type": "markdown",
   "metadata": {},
   "source": [
    "![Cube_coords.png](attachment:Cube_coords.png)"
   ]
  },
  {
   "cell_type": "markdown",
   "metadata": {},
   "source": [
    "## Method 1: Use for loops"
   ]
  },
  {
   "cell_type": "code",
   "execution_count": 5,
   "metadata": {},
   "outputs": [
    {
     "name": "stdout",
     "output_type": "stream",
     "text": [
      "[x y z]\n",
      "[0 0 0]\n",
      "[0 0 1]\n",
      "[0 1 0]\n",
      "[0 1 1]\n",
      "[1 0 0]\n",
      "[1 0 1]\n",
      "[1 1 0]\n",
      "[1 1 1]\n"
     ]
    }
   ],
   "source": [
    "# for example, list the indices of elements arranged in a 3D cube where each index x,y,z can range between 0 and L\n",
    "print('[x y z]')\n",
    "L = 1\n",
    "for x in range(0,L+1):\n",
    "    for y in range(0,L+1):\n",
    "        for z in range(0,L+1):\n",
    "            point_coordinates = np.array([x, y, z])\n",
    "            print(point_coordinates)"
   ]
  },
  {
   "cell_type": "markdown",
   "metadata": {},
   "source": [
    "## Method 2: Use np.meshgrid()\n",
    "\n",
    "See https://numpy.org/doc/stable/reference/generated/numpy.meshgrid.html#numpy.meshgrid"
   ]
  },
  {
   "cell_type": "code",
   "execution_count": 6,
   "metadata": {},
   "outputs": [],
   "source": [
    "# for example, list the indices of elements arranged in a 3D cube where each index x,y,z can range between 0 and L\n",
    "L = 1\n",
    "nums = range(0,L+1)\n",
    "x, y, z = np.meshgrid(nums, nums, nums)"
   ]
  },
  {
   "cell_type": "code",
   "execution_count": 7,
   "metadata": {},
   "outputs": [
    {
     "data": {
      "text/plain": [
       "array([[[0, 0],\n",
       "        [1, 1]],\n",
       "\n",
       "       [[0, 0],\n",
       "        [1, 1]]])"
      ]
     },
     "execution_count": 7,
     "metadata": {},
     "output_type": "execute_result"
    }
   ],
   "source": [
    "x"
   ]
  },
  {
   "cell_type": "code",
   "execution_count": 8,
   "metadata": {},
   "outputs": [
    {
     "data": {
      "text/plain": [
       "array([[[0, 0],\n",
       "        [0, 0]],\n",
       "\n",
       "       [[1, 1],\n",
       "        [1, 1]]])"
      ]
     },
     "execution_count": 8,
     "metadata": {},
     "output_type": "execute_result"
    }
   ],
   "source": [
    "y"
   ]
  },
  {
   "cell_type": "code",
   "execution_count": 9,
   "metadata": {},
   "outputs": [
    {
     "data": {
      "text/plain": [
       "array([[[0, 1],\n",
       "        [0, 1]],\n",
       "\n",
       "       [[0, 1],\n",
       "        [0, 1]]])"
      ]
     },
     "execution_count": 9,
     "metadata": {},
     "output_type": "execute_result"
    }
   ],
   "source": [
    "z"
   ]
  },
  {
   "cell_type": "code",
   "execution_count": 10,
   "metadata": {},
   "outputs": [],
   "source": [
    "point_coordinates = np.vstack((x.flatten(),y.flatten(), z.flatten()))"
   ]
  },
  {
   "cell_type": "code",
   "execution_count": 11,
   "metadata": {},
   "outputs": [
    {
     "name": "stdout",
     "output_type": "stream",
     "text": [
      "[x y z]\n",
      "[0 0 0]\n",
      "[0 0 1]\n",
      "[1 0 0]\n",
      "[1 0 1]\n",
      "[0 1 0]\n",
      "[0 1 1]\n",
      "[1 1 0]\n",
      "[1 1 1]\n"
     ]
    }
   ],
   "source": [
    "print('[x y z]')\n",
    "for i in range(point_coordinates.shape[1]):\n",
    "    print(point_coordinates[:,i])"
   ]
  },
  {
   "cell_type": "markdown",
   "metadata": {},
   "source": [
    "## 2) Filtering arrays\n",
    "\n",
    "Example: Make all odd numbers in an array negative"
   ]
  },
  {
   "cell_type": "code",
   "execution_count": 12,
   "metadata": {},
   "outputs": [],
   "source": [
    "arr = np.arange(0, 100,)"
   ]
  },
  {
   "cell_type": "code",
   "execution_count": 13,
   "metadata": {},
   "outputs": [
    {
     "data": {
      "text/plain": [
       "array([ 0,  1,  2,  3,  4,  5,  6,  7,  8,  9, 10, 11, 12, 13, 14, 15, 16,\n",
       "       17, 18, 19, 20, 21, 22, 23, 24, 25, 26, 27, 28, 29, 30, 31, 32, 33,\n",
       "       34, 35, 36, 37, 38, 39, 40, 41, 42, 43, 44, 45, 46, 47, 48, 49, 50,\n",
       "       51, 52, 53, 54, 55, 56, 57, 58, 59, 60, 61, 62, 63, 64, 65, 66, 67,\n",
       "       68, 69, 70, 71, 72, 73, 74, 75, 76, 77, 78, 79, 80, 81, 82, 83, 84,\n",
       "       85, 86, 87, 88, 89, 90, 91, 92, 93, 94, 95, 96, 97, 98, 99])"
      ]
     },
     "execution_count": 13,
     "metadata": {},
     "output_type": "execute_result"
    }
   ],
   "source": [
    "arr"
   ]
  },
  {
   "cell_type": "code",
   "execution_count": 14,
   "metadata": {},
   "outputs": [],
   "source": [
    "signs = (-1.)**np.abs(arr)"
   ]
  },
  {
   "cell_type": "code",
   "execution_count": 15,
   "metadata": {},
   "outputs": [
    {
     "data": {
      "text/plain": [
       "array([  0.,  -1.,   2.,  -3.,   4.,  -5.,   6.,  -7.,   8.,  -9.,  10.,\n",
       "       -11.,  12., -13.,  14., -15.,  16., -17.,  18., -19.,  20., -21.,\n",
       "        22., -23.,  24., -25.,  26., -27.,  28., -29.,  30., -31.,  32.,\n",
       "       -33.,  34., -35.,  36., -37.,  38., -39.,  40., -41.,  42., -43.,\n",
       "        44., -45.,  46., -47.,  48., -49.,  50., -51.,  52., -53.,  54.,\n",
       "       -55.,  56., -57.,  58., -59.,  60., -61.,  62., -63.,  64., -65.,\n",
       "        66., -67.,  68., -69.,  70., -71.,  72., -73.,  74., -75.,  76.,\n",
       "       -77.,  78., -79.,  80., -81.,  82., -83.,  84., -85.,  86., -87.,\n",
       "        88., -89.,  90., -91.,  92., -93.,  94., -95.,  96., -97.,  98.,\n",
       "       -99.])"
      ]
     },
     "execution_count": 15,
     "metadata": {},
     "output_type": "execute_result"
    }
   ],
   "source": [
    "arr*signs"
   ]
  },
  {
   "cell_type": "markdown",
   "metadata": {},
   "source": [
    "Example: set all elements of an array greater than 2 to 0"
   ]
  },
  {
   "cell_type": "code",
   "execution_count": 16,
   "metadata": {},
   "outputs": [],
   "source": [
    "arr = np.arange(0, 100,)"
   ]
  },
  {
   "cell_type": "code",
   "execution_count": 17,
   "metadata": {},
   "outputs": [],
   "source": [
    "arr[arr>2] = 0. "
   ]
  },
  {
   "cell_type": "code",
   "execution_count": 18,
   "metadata": {},
   "outputs": [
    {
     "data": {
      "text/plain": [
       "array([0, 1, 2, 0, 0, 0, 0, 0, 0, 0, 0, 0, 0, 0, 0, 0, 0, 0, 0, 0, 0, 0,\n",
       "       0, 0, 0, 0, 0, 0, 0, 0, 0, 0, 0, 0, 0, 0, 0, 0, 0, 0, 0, 0, 0, 0,\n",
       "       0, 0, 0, 0, 0, 0, 0, 0, 0, 0, 0, 0, 0, 0, 0, 0, 0, 0, 0, 0, 0, 0,\n",
       "       0, 0, 0, 0, 0, 0, 0, 0, 0, 0, 0, 0, 0, 0, 0, 0, 0, 0, 0, 0, 0, 0,\n",
       "       0, 0, 0, 0, 0, 0, 0, 0, 0, 0, 0, 0])"
      ]
     },
     "execution_count": 18,
     "metadata": {},
     "output_type": "execute_result"
    }
   ],
   "source": [
    "arr"
   ]
  },
  {
   "cell_type": "markdown",
   "metadata": {},
   "source": [
    "## 3) Using a decorator to vectorize an element-wise operation\n",
    "\n",
    "Example: set odd numbers in an array to 0"
   ]
  },
  {
   "cell_type": "code",
   "execution_count": 19,
   "metadata": {},
   "outputs": [
    {
     "data": {
      "text/plain": [
       "array([ 0,  0,  2,  0,  4,  0,  6,  0,  8,  0, 10,  0, 12,  0, 14,  0, 16,\n",
       "        0, 18,  0, 20,  0, 22,  0, 24,  0, 26,  0, 28,  0, 30,  0, 32,  0,\n",
       "       34,  0, 36,  0, 38,  0, 40,  0, 42,  0, 44,  0, 46,  0, 48,  0, 50,\n",
       "        0, 52,  0, 54,  0, 56,  0, 58,  0, 60,  0, 62,  0, 64,  0, 66,  0,\n",
       "       68,  0, 70,  0, 72,  0, 74,  0, 76,  0, 78,  0, 80,  0, 82,  0, 84,\n",
       "        0, 86,  0, 88,  0, 90,  0, 92,  0, 94,  0, 96,  0, 98,  0])"
      ]
     },
     "execution_count": 19,
     "metadata": {},
     "output_type": "execute_result"
    }
   ],
   "source": [
    "x = np.arange(0, 100, 1)\n",
    "\n",
    "@np.vectorize\n",
    "def vectorize__zero_odd(x):\n",
    "    if x % 2 != 0:\n",
    "        x = 0.\n",
    "    return x\n",
    "vectorize__zero_odd(x)"
   ]
  },
  {
   "cell_type": "markdown",
   "metadata": {},
   "source": []
  },
  {
   "cell_type": "code",
   "execution_count": null,
   "metadata": {},
   "outputs": [],
   "source": []
  },
  {
   "cell_type": "code",
   "execution_count": null,
   "metadata": {},
   "outputs": [],
   "source": []
  }
 ],
 "metadata": {
  "kernelspec": {
   "display_name": "Python 3",
   "language": "python",
   "name": "python3"
  },
  "language_info": {
   "codemirror_mode": {
    "name": "ipython",
    "version": 3
   },
   "file_extension": ".py",
   "mimetype": "text/x-python",
   "name": "python",
   "nbconvert_exporter": "python",
   "pygments_lexer": "ipython3",
   "version": "3.7.3"
  }
 },
 "nbformat": 4,
 "nbformat_minor": 5
}
