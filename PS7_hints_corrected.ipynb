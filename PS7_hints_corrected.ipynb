{
 "cells": [
  {
   "cell_type": "markdown",
   "id": "c521f495",
   "metadata": {},
   "source": [
    "### 1) Brent's Method\n",
    "\n",
    "https://mathworld.wolfram.com/BrentsMethod.html\n",
    "\n",
    "Given three points $x_1$, $x_2$, and $x_3$, Brent's method fits $x$ as a quadratic function of $y$, then uses the interpolation formula\n",
    "\n",
    "\\begin{equation}\n",
    "x = \\frac{[y-f(x_1)][y-f(x_2)]x_3}{[f(x_3)-f(x_1)][f(x_3)-f(x_2)]}+\\frac{[y-f(x_2)][y-f(x_3)]x_1}{[f(x_1)-f(x_2)][f(x_1)-f(x_3)]}+\\frac{[y-f(x_3)][y-f(x_1)]x_2}{[f(x_2)-f(x_3)][f(x_2)-f(x_1)]}\n",
    "\\end{equation}\n",
    "\n",
    "Brent's method can be used for root finding or applied to minimization.\n",
    "\n",
    "For minimization:\n",
    "https://en.wikipedia.org/wiki/Brent%27s_method"
   ]
  },
  {
   "cell_type": "markdown",
   "id": "13e57655",
   "metadata": {},
   "source": [
    "### Brent minimization pseudocode\n",
    "\n",
    "Below I write pseudocode that does Brent's method for minimization, except I use bisection a la Wikipedia article above.\n",
    "\n",
    "Be careful of this Wikipedia article because the code is incorrect and overly complicated in it!!\n",
    "\n",
    "In your homework, you'll want to replace the bisection method used below as the fallback method with the golden mean search method. \n",
    "\n",
    "See the class notes for how to do the golden mean search. \n",
    "\n",
    "\n",
    "def Brent(f, a, b, delta = 1e-7):\n",
    "\n",
    "    if |f(a)|<|f(b)|:\n",
    "    \n",
    "        swap a and b\n",
    "        \n",
    "    c = a\n",
    "    \n",
    "    flag = True # denotes whether bisection (you'll want to replace this with golden mean search!) is used\n",
    "    \n",
    "    while |a-b|<delta:\n",
    "    \n",
    "        s = s_quad_interp(a,b,c)\n",
    "        \n",
    "        if any of the following conditions are true:\n",
    "        \n",
    "        Condition 1: s >= b # s is outside of bracket: then resort to bisection\n",
    "        \n",
    "        Condition 2: flag = True and |s-b| >= |b-c| # |b-c| is size of previous step, bisection was previous step\n",
    "        \n",
    "        Condition 3: flag = False and |s-b| >= |c-d| # previous step not bisection and step before the previous step is larger smaller than the current step\n",
    "                                                     \n",
    "        then resort to bisection minimization: # you'll want to replace this with golden mean search!\n",
    "        \n",
    "            s = (a+b)/2\n",
    "            \n",
    "            flag = True # we used bisection\n",
    "            \n",
    "        else: # keep the Brent estimate\n",
    "        \n",
    "            flag = False # we used Brent \n",
    "            \n",
    "        # now iterate\n",
    "        \n",
    "        d = c\n",
    "        \n",
    "        c = b \n",
    "        \n",
    "        a = s\n",
    "        \n",
    "        if |f(a)|<|f(b)|: # again swap a and b if needed\n",
    "        \n",
    "            swap a and b\n",
    "            \n",
    "    return b # return the minimum"
   ]
  },
  {
   "cell_type": "code",
   "execution_count": 1,
   "id": "93cc496d",
   "metadata": {},
   "outputs": [
    {
     "name": "stdout",
     "output_type": "stream",
     "text": [
      "minimum = 1.0000000149011612\n"
     ]
    },
    {
     "data": {
      "image/png": "[encoded data removed]",
      "text/plain": [
       "<Figure size 432x288 with 2 Axes>"
      ]
     },
     "metadata": {
      "needs_background": "light"
     },
     "output_type": "display_data"
    }
   ],
   "source": [
    "import numpy as np\n",
    "import matplotlib.pyplot as plt\n",
    "\n",
    "\"\"\"\n",
    "Example of brent minimization using bisection as the fall back method.\n",
    "For PS7 problem 1, you'll want to use Golden Mean Search instead of bisection and clean this code up!\n",
    "\"\"\"\n",
    "f = lambda x: (x-1)**2 \n",
    "\n",
    "def s_quad_interp(a, b, c):\n",
    "    \"\"\"\n",
    "    inverse quadratic interpolation\n",
    "    \"\"\"\n",
    "    epsilon = 1e-7 #for numerical stability\n",
    "    s0 = a*f(b)*f(c) / (epsilon + (f(a)-f(b))*(f(a)-f(c)))\n",
    "    s1 = b*f(a)*f(c) / (epsilon + (f(b)-f(a))*(f(b)-f(c)))\n",
    "    s2 = c*f(a)*f(b) / (epsilon + (f(c)-f(a))*(f(c)-f(b)))\n",
    "    return s0+s1+s2\n",
    "\n",
    "def optimize():\n",
    "    #define interval\n",
    "    a = -10 \n",
    "    b = 10\n",
    "    tol = 1e-7\n",
    "    if abs(f(a)) < abs(f(b)):\n",
    "        a, b = b, a #swap bounds\n",
    "    c = a\n",
    "    flag = True\n",
    "    err = abs(b-a)\n",
    "    err_list, b_list = [err], [b]\n",
    "    while err > tol:\n",
    "        s = s_quad_interp(a,b,c)\n",
    "        if ((s >= b))\\\n",
    "            or ((flag == True) and (abs(s-b) >= abs(b-c)))\\\n",
    "            or ((flag == False) and (abs(s-b) >= abs(c-d))):\n",
    "            s = (a+b)/2 #bisection\n",
    "            flag = True\n",
    "        else:\n",
    "            flag = False\n",
    "        c, d = b, c # d is c from previous step\n",
    "        #if f(a)*f(s) < 0:\n",
    "        #    b = s\n",
    "        #else:\n",
    "        a = s\n",
    "        if abs(f(a)) < abs(f(b)):\n",
    "            a, b = b, a #swap if needed\n",
    "        err = abs(b-a) #update error to check for convergence\n",
    "        err_list.append(err)\n",
    "        b_list.append(b)\n",
    "    print(f'minimum = {b}')\n",
    "    return b_list, err_list\n",
    "\n",
    "def plot(b_list, err_list):\n",
    "    log_err = [np.log10(err) for err in err_list]\n",
    "    fig, axs = plt.subplots(2,1, sharex=True)\n",
    "    ax0, ax1 = axs[0], axs[1]\n",
    "    #plot root\n",
    "    ax0.scatter(range(len(b_list)), b_list, marker = 'o', facecolor = 'red', edgecolor = 'k')\n",
    "    ax0.plot(range(len(b_list)), b_list, 'r-', alpha = .5)\n",
    "    ax1.plot(range(len(err_list)), log_err,'.-')\n",
    "    ax1.set_xlabel('number of iterations')\n",
    "    ax0.set_ylabel(r'$x_{min}$')\n",
    "    ax1.set_ylabel(r'$\\log{\\delta}$')\n",
    "    plt.savefig('convergence.png')\n",
    "    \n",
    "if __name__ == \"__main__\":\n",
    "    b_list, err_list = optimize()\n",
    "    plot(b_list, err_list)"
   ]
  },
  {
   "cell_type": "markdown",
   "id": "60786094",
   "metadata": {},
   "source": [
    "### 2) Logistic function minimization\n",
    "\n",
    "The probability of observing response $y_i$ given parameters $\\beta_0$ and $\\beta_1$ and age $x_i$ is\n",
    "\\begin{equation}\n",
    "p(y_i|\\beta_0, \\beta_1) = 1/(1+\\exp(-\\beta_0+\\beta_1 x_i)) \n",
    "\\end{equation}\n",
    "\n",
    "Let's plot this function:"
   ]
  },
  {
   "cell_type": "code",
   "execution_count": 2,
   "id": "c652c66a",
   "metadata": {},
   "outputs": [
    {
     "data": {
      "text/plain": [
       "'\\nTo install CPU Jax:\\npip install --upgrade pip\\npip install --upgrade \"jax[cpu]\"\\n\\nI won\\'t be using it in this notebook!\\n'"
      ]
     },
     "execution_count": 2,
     "metadata": {},
     "output_type": "execute_result"
    }
   ],
   "source": [
    "\"\"\"\n",
    "To install CPU Jax:\n",
    "pip install --upgrade pip\n",
    "pip install --upgrade \"jax[cpu]\"\n",
    "\n",
    "I won't be using it in this notebook!\n",
    "\"\"\""
   ]
  },
  {
   "cell_type": "code",
   "execution_count": 3,
   "id": "5bd2b9bf",
   "metadata": {},
   "outputs": [],
   "source": [
    "def p(x, beta_0, beta_1):\n",
    "    return 1/(1+np.exp(-(beta_0+beta_1*x)))"
   ]
  },
  {
   "cell_type": "code",
   "execution_count": 4,
   "id": "5d651ded",
   "metadata": {},
   "outputs": [],
   "source": [
    "x = 50"
   ]
  },
  {
   "cell_type": "code",
   "execution_count": 5,
   "id": "acee0447",
   "metadata": {},
   "outputs": [
    {
     "name": "stderr",
     "output_type": "stream",
     "text": [
      "<ipython-input-5-e217fb70cd4f>:5: MatplotlibDeprecationWarning: shading='flat' when X and Y have the same dimensions as C is deprecated since 3.3.  Either specify the corners of the quadrilaterals with X and Y, or pass shading='auto', 'nearest' or 'gouraud', or set rcParams['pcolor.shading'].  This will become an error two minor releases later.\n",
      "  plt.pcolormesh(*beta, p_grid)\n"
     ]
    },
    {
     "data": {
      "text/plain": [
       "Text(0.5, 1.0, '$p(y_i|x_i=50,\\\\beta_0, \\\\beta_1)$')"
      ]
     },
     "execution_count": 5,
     "metadata": {},
     "output_type": "execute_result"
    },
    {
     "data": {
      "image/png": "[encoded data removed]",
      "text/plain": [
       "<Figure size 432x288 with 2 Axes>"
      ]
     },
     "metadata": {
      "needs_background": "light"
     },
     "output_type": "display_data"
    }
   ],
   "source": [
    "beta_0 = np.linspace(-5,5, 100)\n",
    "beta_1 = np.linspace(-5,5,100)\n",
    "beta = np.meshgrid(beta_0, beta_1)\n",
    "p_grid = p(x, *beta)\n",
    "plt.pcolormesh(*beta, p_grid)\n",
    "plt.colorbar()\n",
    "plt.xlabel(r'$\\beta_0$', fontsize = 16)\n",
    "plt.ylabel(r'$\\beta_1$', fontsize = 16)\n",
    "plt.title(r'$p(y_i|x_i=50,\\beta_0, \\beta_1)$', fontsize = 16)"
   ]
  },
  {
   "cell_type": "markdown",
   "id": "81d3c017",
   "metadata": {},
   "source": [
    "Okay, now let's calculate the log likelihood of observing the data that the problem gives us given our parameters $\\beta_0$ and $\\beta_1$. Load it in:\n"
   ]
  },
  {
   "cell_type": "code",
   "execution_count": 6,
   "id": "c47aca7a",
   "metadata": {},
   "outputs": [],
   "source": [
    "import pandas as pd"
   ]
  },
  {
   "cell_type": "code",
   "execution_count": 7,
   "id": "97523dc4",
   "metadata": {},
   "outputs": [],
   "source": [
    "data = pd.read_csv('survey.csv')  "
   ]
  },
  {
   "cell_type": "code",
   "execution_count": 8,
   "id": "d2b7ba20",
   "metadata": {},
   "outputs": [
    {
     "data": {
      "text/html": [
       "<div>\n",
       "<style scoped>\n",
       "    .dataframe tbody tr th:only-of-type {\n",
       "        vertical-align: middle;\n",
       "    }\n",
       "\n",
       "    .dataframe tbody tr th {\n",
       "        vertical-align: top;\n",
       "    }\n",
       "\n",
       "    .dataframe thead th {\n",
       "        text-align: right;\n",
       "    }\n",
       "</style>\n",
       "<table border=\"1\" class=\"dataframe\">\n",
       "  <thead>\n",
       "    <tr style=\"text-align: right;\">\n",
       "      <th></th>\n",
       "      <th>age</th>\n",
       "      <th>recognized_it</th>\n",
       "    </tr>\n",
       "  </thead>\n",
       "  <tbody>\n",
       "    <tr>\n",
       "      <th>0</th>\n",
       "      <td>45.755371</td>\n",
       "      <td>0.0</td>\n",
       "    </tr>\n",
       "    <tr>\n",
       "      <th>1</th>\n",
       "      <td>25.877705</td>\n",
       "      <td>0.0</td>\n",
       "    </tr>\n",
       "    <tr>\n",
       "      <th>2</th>\n",
       "      <td>36.838818</td>\n",
       "      <td>0.0</td>\n",
       "    </tr>\n",
       "    <tr>\n",
       "      <th>3</th>\n",
       "      <td>68.358208</td>\n",
       "      <td>1.0</td>\n",
       "    </tr>\n",
       "    <tr>\n",
       "      <th>4</th>\n",
       "      <td>5.353914</td>\n",
       "      <td>0.0</td>\n",
       "    </tr>\n",
       "    <tr>\n",
       "      <th>...</th>\n",
       "      <td>...</td>\n",
       "      <td>...</td>\n",
       "    </tr>\n",
       "    <tr>\n",
       "      <th>95</th>\n",
       "      <td>54.420506</td>\n",
       "      <td>0.0</td>\n",
       "    </tr>\n",
       "    <tr>\n",
       "      <th>96</th>\n",
       "      <td>24.069313</td>\n",
       "      <td>0.0</td>\n",
       "    </tr>\n",
       "    <tr>\n",
       "      <th>97</th>\n",
       "      <td>53.082596</td>\n",
       "      <td>0.0</td>\n",
       "    </tr>\n",
       "    <tr>\n",
       "      <th>98</th>\n",
       "      <td>20.009270</td>\n",
       "      <td>0.0</td>\n",
       "    </tr>\n",
       "    <tr>\n",
       "      <th>99</th>\n",
       "      <td>54.321861</td>\n",
       "      <td>1.0</td>\n",
       "    </tr>\n",
       "  </tbody>\n",
       "</table>\n",
       "<p>100 rows × 2 columns</p>\n",
       "</div>"
      ],
      "text/plain": [
       "          age  recognized_it\n",
       "0   45.755371            0.0\n",
       "1   25.877705            0.0\n",
       "2   36.838818            0.0\n",
       "3   68.358208            1.0\n",
       "4    5.353914            0.0\n",
       "..        ...            ...\n",
       "95  54.420506            0.0\n",
       "96  24.069313            0.0\n",
       "97  53.082596            0.0\n",
       "98  20.009270            0.0\n",
       "99  54.321861            1.0\n",
       "\n",
       "[100 rows x 2 columns]"
      ]
     },
     "execution_count": 8,
     "metadata": {},
     "output_type": "execute_result"
    }
   ],
   "source": [
    "data"
   ]
  },
  {
   "cell_type": "code",
   "execution_count": 9,
   "id": "430d697b",
   "metadata": {},
   "outputs": [
    {
     "data": {
      "text/plain": [
       "(100, 100)"
      ]
     },
     "execution_count": 9,
     "metadata": {},
     "output_type": "execute_result"
    }
   ],
   "source": [
    "p_grid.shape"
   ]
  },
  {
   "cell_type": "code",
   "execution_count": 10,
   "id": "2a07eea2",
   "metadata": {},
   "outputs": [],
   "source": [
    "# send data to numpy bc pandas annoys me\n",
    "xs = data['age'].to_numpy()\n",
    "ys = data['recognized_it'].to_numpy()\n",
    "x_sort = np.argsort(xs)\n",
    "xs = xs[x_sort]\n",
    "ys = ys[x_sort]"
   ]
  },
  {
   "cell_type": "markdown",
   "id": "bd124a48",
   "metadata": {},
   "source": [
    "Now compute the log likelihood of observing the data given parameters $\\beta_0$ and $\\beta_1$.\n",
    "\n",
    "See https://web.stanford.edu/class/archive/stats/stats200/stats200.1172/Lecture26.pdf for a good overview of logistic regression, which is what we are doing!\n",
    "\n",
    "The logistic regression model assumes each response $y_i$ is a Bernoulli distributed independent variable. \n",
    "Here, \"Bernoulli distributed\" means each response $y_i$ has probability\n",
    "\\begin{equation}\n",
    "p(y_i|\\beta_0, \\beta_1, x_i) = 1/(1+\\exp(-\\beta_0+\\beta_1 x_i))  = p_i\n",
    "\\end{equation}\n",
    "\n",
    "The likelihood for this logistic regression model is given by\n",
    "\\begin{equation}\n",
    "L(\\beta_0, \\beta_1) = \\prod_{i=0}^N p_i^{y_i}(1-p_i)^{(1-y_i)}\n",
    "\\end{equation}\n",
    "\n",
    "Then the log likelihood can be written as (after a bit of math!)\n",
    "\n",
    "\\begin{equation}\n",
    "\\mathcal{L}(\\beta_0, \\beta_1)  = \\sum_{i=0}^N \\left(y_i \\log\\left(\\frac{p_i}{1-p_i}\\right)+\\log(1-p_i)\\right)\n",
    "\\end{equation}\n",
    "\n",
    "Below I implement the log likelihood and plot it for various values of $\\beta_0$ and $\\beta_1$."
   ]
  },
  {
   "cell_type": "code",
   "execution_count": 11,
   "id": "a4f617e2",
   "metadata": {},
   "outputs": [],
   "source": [
    "def log_likelihood(beta, xs, ys):\n",
    "    beta_0 = beta[0]\n",
    "    beta_1 = beta[1]\n",
    "    epsilon = 1e-16\n",
    "    l_list = [ys[i]*np.log(p(xs[i], beta_0, beta_1)/(1-p(xs[i], beta_0, beta_1)+epsilon)) \n",
    "              + np.log(1-p(xs[i], beta_0, beta_1)+epsilon) for i in range(len(xs))]\n",
    "    ll = np.sum(np.array(l_list), axis = -1)\n",
    "    return -ll # return log likelihood"
   ]
  },
  {
   "cell_type": "code",
   "execution_count": 12,
   "id": "5bf6dcc5",
   "metadata": {},
   "outputs": [
    {
     "name": "stderr",
     "output_type": "stream",
     "text": [
      "<ipython-input-12-4da41ad57997>:2: MatplotlibDeprecationWarning: shading='flat' when X and Y have the same dimensions as C is deprecated since 3.3.  Either specify the corners of the quadrilaterals with X and Y, or pass shading='auto', 'nearest' or 'gouraud', or set rcParams['pcolor.shading'].  This will become an error two minor releases later.\n",
      "  plt.pcolormesh(*beta, ll)\n"
     ]
    },
    {
     "data": {
      "text/plain": [
       "Text(0.5, 1.0, '$\\\\mathcal{L}(\\\\beta_0, \\\\beta_1)$')"
      ]
     },
     "execution_count": 12,
     "metadata": {},
     "output_type": "execute_result"
    },
    {
     "data": {
      "image/png": "[encoded data removed]",
      "text/plain": [
       "<Figure size 432x288 with 2 Axes>"
      ]
     },
     "metadata": {
      "needs_background": "light"
     },
     "output_type": "display_data"
    }
   ],
   "source": [
    "ll = log_likelihood(beta, xs, ys)\n",
    "plt.pcolormesh(*beta, ll)\n",
    "plt.colorbar()\n",
    "plt.xlabel(r'$\\beta_0$', fontsize = 16)\n",
    "plt.ylabel(r'$\\beta_1$', fontsize = 16)\n",
    "plt.title(r'$\\mathcal{L}(\\beta_0, \\beta_1)$', fontsize = 16)"
   ]
  },
  {
   "cell_type": "markdown",
   "id": "1c159e3b",
   "metadata": {},
   "source": [
    "To find the optimal parameters $\\hat{\\beta_0}, \\hat{\\beta_1}$ that maximize the log likelihood, you'll want to take the gradient of $\\mathcal{L}(\\beta_0, \\beta_1)$ and find where it is 0.\n",
    "\n",
    "You could try to use a root finder to do this on the gradient of the negative log likelihood, or you could use scipy.optimize.minimize on the negative log likelihood (NOT its gradient!)\n",
    "\n",
    "I recommend the latter option. Below I provide an example of how to use scipy optimize.minimize to get optimal parameters, their covariance matrix, and their associated errors. See https://stackoverflow.com/questions/40187517/getting-covariance-matrix-of-fitted-parameters-from-scipy-optimize-least-squares"
   ]
  },
  {
   "cell_type": "code",
   "execution_count": 13,
   "id": "9ff15bba",
   "metadata": {},
   "outputs": [
    {
     "name": "stdout",
     "output_type": "stream",
     "text": [
      "True p:  [ 1 40]\n",
      "Optimal parameters and error:\n",
      "\tp:  [ 1.01742667 39.86857218] \n",
      "\tdp:  [0.02134643 0.07906688]\n",
      "Covariance matrix of optimal parameters:\n",
      "\tC:  [[ 0.00045567 -0.00011485]\n",
      " [-0.00011485  0.00625157]]\n"
     ]
    }
   ],
   "source": [
    "# example of using scipy optimize.minimize to perform a linear least squares fit\n",
    "\n",
    "from scipy import optimize\n",
    "\n",
    "#True parameters\n",
    "def f( x, p):\n",
    "    return p[0]*x + 0.4*np.sin(p[1]*x)\n",
    "p = np.array([1, 40])\n",
    "\n",
    "print('True p: ', p)\n",
    "\n",
    "#Generate random data\n",
    "xdata = np.linspace(0., 1, 120)\n",
    "ydata = f(xdata, p) +  np.random.normal(0., 0.2, len(xdata))\n",
    "\n",
    "#Fits\n",
    "pstart = [1,42]\n",
    "errFunc = lambda p, x, y: f(x,p) - y\n",
    "\n",
    "# Covariance matrix of parameters\n",
    "def Covariance(hess_inv, resVariance):\n",
    "    return hess_inv * resVariance\n",
    "\n",
    "#Error of parameters\n",
    "def error(hess_inv, resVariance):\n",
    "    covariance = Covariance(hess_inv, resVariance)\n",
    "    return np.sqrt( np.diag( covariance ))\n",
    "\n",
    "result = optimize.minimize(lambda p,x,y: np.sum( errFunc(p,x,y)**2 ), pstart,  args=(xdata, ydata))\n",
    "hess_inv = result.hess_inv # inverse of hessian matrix\n",
    "var = result.fun/(len(ydata)-len(pstart)) \n",
    "dFit = error( hess_inv,  var)\n",
    "print('Optimal parameters and error:\\n\\tp: ' , result.x, '\\n\\tdp: ', dFit)\n",
    "print('Covariance matrix of optimal parameters:\\n\\tC: ' , Covariance( hess_inv,  var))"
   ]
  },
  {
   "cell_type": "markdown",
   "id": "d0bf5e9c",
   "metadata": {},
   "source": [
    "The above code, when applied appropriately to the log likelihood, will give you all you need to answer problem 2.\n",
    "\n",
    "For those who want to try to find the roots of the gradient of the log likelihood to do the optimization, read on below. \n",
    "\n",
    "Now I'll show how to calculate the components of the gradient of the log likelihood (note that you'll want to do this on the negative log likelihood):"
   ]
  },
  {
   "cell_type": "code",
   "execution_count": 14,
   "id": "df478528",
   "metadata": {},
   "outputs": [],
   "source": [
    "grad_ll_arr = np.gradient(ll)"
   ]
  },
  {
   "cell_type": "code",
   "execution_count": 15,
   "id": "8e542bc8",
   "metadata": {},
   "outputs": [
    {
     "name": "stderr",
     "output_type": "stream",
     "text": [
      "<ipython-input-15-c7fefb2a7362>:1: MatplotlibDeprecationWarning: shading='flat' when X and Y have the same dimensions as C is deprecated since 3.3.  Either specify the corners of the quadrilaterals with X and Y, or pass shading='auto', 'nearest' or 'gouraud', or set rcParams['pcolor.shading'].  This will become an error two minor releases later.\n",
      "  plt.pcolormesh(*beta, grad_ll_arr[0])\n"
     ]
    },
    {
     "data": {
      "text/plain": [
       "<matplotlib.colorbar.Colorbar at 0x7f83e1154eb0>"
      ]
     },
     "execution_count": 15,
     "metadata": {},
     "output_type": "execute_result"
    },
    {
     "data": {
      "image/png": "[encoded data removed]",
      "text/plain": [
       "<Figure size 432x288 with 2 Axes>"
      ]
     },
     "metadata": {
      "needs_background": "light"
     },
     "output_type": "display_data"
    }
   ],
   "source": [
    "plt.pcolormesh(*beta, grad_ll_arr[0])\n",
    "plt.xlabel(r'$\\beta_0$', fontsize = 16)\n",
    "plt.ylabel(r'$\\beta_1$', fontsize = 16)\n",
    "plt.title(r'$\\frac{\\partial}{\\partial \\beta_0} \\mathcal{L}(\\beta_0, \\beta_1)$', fontsize = 16)\n",
    "plt.colorbar()"
   ]
  },
  {
   "cell_type": "code",
   "execution_count": 16,
   "id": "57f7c1c9",
   "metadata": {},
   "outputs": [
    {
     "name": "stderr",
     "output_type": "stream",
     "text": [
      "<ipython-input-16-91ace771fc20>:1: MatplotlibDeprecationWarning: shading='flat' when X and Y have the same dimensions as C is deprecated since 3.3.  Either specify the corners of the quadrilaterals with X and Y, or pass shading='auto', 'nearest' or 'gouraud', or set rcParams['pcolor.shading'].  This will become an error two minor releases later.\n",
      "  plt.pcolormesh(*beta, grad_ll_arr[1])\n"
     ]
    },
    {
     "data": {
      "text/plain": [
       "<matplotlib.colorbar.Colorbar at 0x7f83e10a2cd0>"
      ]
     },
     "execution_count": 16,
     "metadata": {},
     "output_type": "execute_result"
    },
    {
     "data": {
      "image/png": "[encoded data removed]",
      "text/plain": [
       "<Figure size 432x288 with 2 Axes>"
      ]
     },
     "metadata": {
      "needs_background": "light"
     },
     "output_type": "display_data"
    }
   ],
   "source": [
    "plt.pcolormesh(*beta, grad_ll_arr[1])\n",
    "plt.xlabel(r'$\\beta_0$', fontsize = 16)\n",
    "plt.ylabel(r'$\\beta_1$', fontsize = 16)\n",
    "plt.title(r'$\\frac{\\partial}{\\partial \\beta_1} \\mathcal{L}(\\beta_0, \\beta_1)$', fontsize = 16)\n",
    "plt.colorbar()"
   ]
  },
  {
   "cell_type": "markdown",
   "id": "46b2890b",
   "metadata": {},
   "source": [
    "Finally, let's compute the hessian of the log likelihood. We can use the hessian to find the covariance matrix of the optimal parameters "
   ]
  },
  {
   "cell_type": "code",
   "execution_count": 17,
   "id": "6a751bc9",
   "metadata": {},
   "outputs": [],
   "source": [
    "# Let's compute the hessian!\n",
    "\n",
    "def hessian(x):\n",
    "    \"\"\"\n",
    "    https://stackoverflow.com/questions/31206443/numpy-second-derivative-of-a-ndimensional-array\n",
    "    Calculate the hessian matrix with finite differences\n",
    "    Parameters:\n",
    "       - x : ndarray\n",
    "    Returns:\n",
    "       an array of shape (x.dim, x.ndim) + x.shape\n",
    "       where the array[i, j, ...] corresponds to the second derivative x_ij\n",
    "    \"\"\"\n",
    "    x_grad = np.gradient(x) \n",
    "    hessian = np.empty((x.ndim, x.ndim) + x.shape, dtype=x.dtype) \n",
    "    for k, grad_k in enumerate(x_grad):\n",
    "        # iterate over dimensions\n",
    "        # apply gradient again to every component of the first derivative.\n",
    "        tmp_grad = np.gradient(grad_k) \n",
    "        for l, grad_kl in enumerate(tmp_grad):\n",
    "            hessian[k, l, :, :] = grad_kl\n",
    "    return hessian"
   ]
  },
  {
   "cell_type": "code",
   "execution_count": 18,
   "id": "b79a96b1",
   "metadata": {},
   "outputs": [],
   "source": [
    "hess_ll = hessian(ll)"
   ]
  },
  {
   "cell_type": "code",
   "execution_count": 19,
   "id": "ccee5a65",
   "metadata": {},
   "outputs": [
    {
     "data": {
      "text/plain": [
       "(2, 2, 100, 100)"
      ]
     },
     "execution_count": 19,
     "metadata": {},
     "output_type": "execute_result"
    }
   ],
   "source": [
    "hess_ll.shape"
   ]
  },
  {
   "cell_type": "code",
   "execution_count": 20,
   "id": "fe2de59a",
   "metadata": {},
   "outputs": [
    {
     "name": "stderr",
     "output_type": "stream",
     "text": [
      "<ipython-input-20-7468fc3083dd>:1: MatplotlibDeprecationWarning: shading='flat' when X and Y have the same dimensions as C is deprecated since 3.3.  Either specify the corners of the quadrilaterals with X and Y, or pass shading='auto', 'nearest' or 'gouraud', or set rcParams['pcolor.shading'].  This will become an error two minor releases later.\n",
      "  plt.pcolormesh(*beta, hess_ll[0, 0, :, :])\n"
     ]
    },
    {
     "data": {
      "text/plain": [
       "<matplotlib.colorbar.Colorbar at 0x7f83e1007340>"
      ]
     },
     "execution_count": 20,
     "metadata": {},
     "output_type": "execute_result"
    },
    {
     "data": {
      "image/png": "[encoded data removed]",
      "text/plain": [
       "<Figure size 432x288 with 2 Axes>"
      ]
     },
     "metadata": {
      "needs_background": "light"
     },
     "output_type": "display_data"
    }
   ],
   "source": [
    "plt.pcolormesh(*beta, hess_ll[0, 0, :, :])\n",
    "plt.xlabel(r'$\\beta_0$', fontsize = 16)\n",
    "plt.ylabel(r'$\\beta_1$', fontsize = 16)\n",
    "plt.title(r'$\\frac{\\partial^2}{\\partial \\beta_0^2} \\mathcal{L}(x|\\beta_0, \\beta_1, \\{y_i\\})$', fontsize = 16)\n",
    "plt.colorbar()"
   ]
  },
  {
   "cell_type": "code",
   "execution_count": 21,
   "id": "38c96e7f",
   "metadata": {},
   "outputs": [
    {
     "name": "stderr",
     "output_type": "stream",
     "text": [
      "<ipython-input-21-ba60dcc01144>:1: MatplotlibDeprecationWarning: shading='flat' when X and Y have the same dimensions as C is deprecated since 3.3.  Either specify the corners of the quadrilaterals with X and Y, or pass shading='auto', 'nearest' or 'gouraud', or set rcParams['pcolor.shading'].  This will become an error two minor releases later.\n",
      "  plt.pcolormesh(*beta, hess_ll[1, 1, :, :])\n"
     ]
    },
    {
     "data": {
      "text/plain": [
       "<matplotlib.colorbar.Colorbar at 0x7f83e10c9e50>"
      ]
     },
     "execution_count": 21,
     "metadata": {},
     "output_type": "execute_result"
    },
    {
     "data": {
      "image/png": "[encoded data removed]",
      "text/plain": [
       "<Figure size 432x288 with 2 Axes>"
      ]
     },
     "metadata": {
      "needs_background": "light"
     },
     "output_type": "display_data"
    }
   ],
   "source": [
    "plt.pcolormesh(*beta, hess_ll[1, 1, :, :])\n",
    "plt.xlabel(r'$\\beta_0$', fontsize = 16)\n",
    "plt.ylabel(r'$\\beta_1$', fontsize = 16)\n",
    "plt.title(r'$\\frac{\\partial^2}{\\partial \\beta_1^2} \\mathcal{L}(x|\\beta_0, \\beta_1, \\{y_i\\})$', fontsize = 16)\n",
    "plt.colorbar()"
   ]
  },
  {
   "cell_type": "markdown",
   "id": "af16e937",
   "metadata": {},
   "source": [
    "Okay, now we need to find the covariance matrix for our parameters $\\beta_0$ and $\\beta_1$.\n",
    "\n",
    "You can do this with the following:\n",
    "\n",
    "Let our model parameters be represented by the vector $\\theta = (\\beta_0, \\beta_1)$.\n",
    "\n",
    "Then the Hessian is given by \n",
    "\\begin{equation}\n",
    "H(\\theta)=\\frac{\\partial^2}{\\partial \\theta_i \\partial \\theta_j} \\mathcal{L}(\\theta)\n",
    "\\end{equation}\n",
    "\n",
    "and so the covariance matrix of the optimal parameters $\\hat{\\theta}$ is given by\n",
    "\\begin{equation}\n",
    "C(\\hat{\\theta})=[H(\\hat{\\theta)}]^{-1}\n",
    "\\end{equation}\n",
    "\n",
    "The error in each optimal parameter is given by\n",
    "\\begin{equation}\n",
    "\\sigma_j = \\sqrt{C_{jj}}\n",
    "\\end{equation}\n",
    "\n",
    "I might be off by a constant in this..."
   ]
  },
  {
   "cell_type": "code",
   "execution_count": null,
   "id": "5024e44b",
   "metadata": {},
   "outputs": [],
   "source": []
  }
 ],
 "metadata": {
  "kernelspec": {
   "display_name": "Python 3",
   "language": "python",
   "name": "python3"
  },
  "language_info": {
   "codemirror_mode": {
    "name": "ipython",
    "version": 3
   },
   "file_extension": ".py",
   "mimetype": "text/x-python",
   "name": "python",
   "nbconvert_exporter": "python",
   "pygments_lexer": "ipython3",
   "version": "3.8.8"
  }
 },
 "nbformat": 4,
 "nbformat_minor": 5
}
