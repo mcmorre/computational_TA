{
 "cells": [
  {
   "cell_type": "markdown",
   "id": "ecbbbcc7",
   "metadata": {},
   "source": [
    "### On board: Gaussian quadrature review"
   ]
  },
  {
   "cell_type": "code",
   "execution_count": 1,
   "id": "769a8688",
   "metadata": {},
   "outputs": [
    {
     "data": {
      "text/plain": [
       "Text(0, 0.5, 'f(x)')"
      ]
     },
     "execution_count": 1,
     "metadata": {},
     "output_type": "execute_result"
    },
    {
     "data": {
      "image/png": "[encoded data removed]",
      "text/plain": [
       "<Figure size 432x288 with 1 Axes>"
      ]
     },
     "metadata": {
      "needs_background": "light"
     },
     "output_type": "display_data"
    }
   ],
   "source": [
    "import numpy as np\n",
    "import matplotlib.pyplot as plt\n",
    "\n",
    "######################################################################\n",
    "# http://www-personal.umich.edu/~mejn/computational-physics/gaussxw.py\n",
    "# Functions to calculate integration points and weights for Gaussian\n",
    "# quadrature\n",
    "#\n",
    "# x,w = gaussxw(N) returns integration points x and integration\n",
    "#           weights w such that sum_i w[i]*f(x[i]) is the Nth-order\n",
    "#           Gaussian approximation to the integral int_{-1}^1 f(x) dx\n",
    "# x,w = gaussxwab(N,a,b) returns integration points and weights\n",
    "#           mapped to the interval [a,b], so that sum_i w[i]*f(x[i])\n",
    "#           is the Nth-order Gaussian approximation to the integral\n",
    "#           int_a^b f(x) dx\n",
    "#\n",
    "# This code finds the zeros of the nth Legendre polynomial using\n",
    "# Newton's method, starting from the approximation given in Abramowitz\n",
    "# and Stegun 22.16.6.  The Legendre polynomial itself is evaluated\n",
    "# using the recurrence relation given in Abramowitz and Stegun\n",
    "# 22.7.10.  The function has been checked against other sources for\n",
    "# values of N up to 1000.  It is compatible with version 2 and version\n",
    "# 3 of Python.\n",
    "#\n",
    "# Written by Mark Newman <mejn@umich.edu>, June 4, 2011\n",
    "# You may use, share, or modify this file freely\n",
    "#\n",
    "######################################################################\n",
    "\n",
    "from numpy import ones,copy,cos,tan,pi,linspace\n",
    "\n",
    "def gaussxw(N):\n",
    "\n",
    "    # Initial approximation to roots of the Legendre polynomial\n",
    "    a = np.linspace(3,4*N-1,N)/(4*N+2)\n",
    "    x = np.cos(pi*a+1/(8*N*N*tan(a)))\n",
    "\n",
    "    # Find roots using Newton's method\n",
    "    epsilon = 1e-15\n",
    "    delta = 1.0\n",
    "    while delta>epsilon:\n",
    "        p0 = np.ones(N,float)\n",
    "        p1 = np.copy(x)\n",
    "        for k in range(1,N):\n",
    "            p0,p1 = p1,((2*k+1)*x*p1-k*p0)/(k+1)\n",
    "        dp = (N+1)*(p0-x*p1)/(1-x*x)\n",
    "        dx = p1/dp\n",
    "        x -= dx\n",
    "        delta = max(abs(dx))\n",
    "\n",
    "    # Calculate the weights\n",
    "    w = 2*(N+1)*(N+1)/(N*N*(1-x*x)*dp*dp)\n",
    "\n",
    "    return x,w\n",
    "\n",
    "def gaussxwab(N,a,b):\n",
    "    x,w = gaussxw(N)\n",
    "    return 0.5*(b-a)*x+0.5*(b+a),0.5*(b-a)*w\n",
    "############################################################################################################\n",
    "#begin my code\n",
    "\n",
    "# IF YOU INCLUDE PHYSICAL CONSTANTS IN YOUR INTEGRATION YOU WILL MAKE ME VERY SAD! \n",
    "\n",
    "def integrand(x):\n",
    "    return x\n",
    "\n",
    "def gquad(b = 10, N=100):\n",
    "    x,w = gaussxw(N)\n",
    "    a = 0\n",
    "    #xp = 0.5*(b-a)*x + 0.5*(b+a) # sample points, rescaled to bounds a,b\n",
    "    #wp = 0.5*(b-a)*w # rescale weights to bounds a, b\n",
    "    xp, wp = gaussxwab(N,a,b)\n",
    "    s = sum(integrand(xp)*wp) # add them up!\n",
    "    return s\n",
    "\n",
    "x = np.linspace(0,10,100)\n",
    "I = [gquad(xi) for xi in x]\n",
    "plt.plot(x,I)\n",
    "plt.plot(x, 0.5*x**2, linestyle = '--')\n",
    "plt.xlabel('x')\n",
    "plt.ylabel(r'f(x)')"
   ]
  },
  {
   "cell_type": "markdown",
   "id": "10196c43",
   "metadata": {},
   "source": [
    "### Using recursion to generate Hermite polynomials"
   ]
  },
  {
   "cell_type": "code",
   "execution_count": 2,
   "id": "23e45ae7",
   "metadata": {},
   "outputs": [
    {
     "data": {
      "text/plain": [
       "<matplotlib.legend.Legend at 0x7f19013151f0>"
      ]
     },
     "execution_count": 2,
     "metadata": {},
     "output_type": "execute_result"
    },
    {
     "data": {
      "image/png": "[encoded data removed]",
      "text/plain": [
       "<Figure size 432x288 with 1 Axes>"
      ]
     },
     "metadata": {
      "needs_background": "light"
     },
     "output_type": "display_data"
    }
   ],
   "source": [
    "def H(n,x):\n",
    "    if n==0:\n",
    "        return np.ones(x.shape)\n",
    "    elif n==1:\n",
    "        return 2*x\n",
    "    else:\n",
    "        return 2*x*H(n-1, x)-2*(n-1)*H(n-2, x)\n",
    "\n",
    "\n",
    "x = np.linspace(-1,1, 100)\n",
    "n = [0,1,2,3]\n",
    "\n",
    "for ni in n:\n",
    "    plt.plot(x,H(ni,x),label=ni)\n",
    "\n",
    "plt.legend()"
   ]
  },
  {
   "cell_type": "markdown",
   "id": "04672aaa",
   "metadata": {},
   "source": [
    "### Gauss-Hermite quadrature"
   ]
  },
  {
   "cell_type": "code",
   "execution_count": 3,
   "id": "63273941",
   "metadata": {},
   "outputs": [],
   "source": [
    "from scipy.special import roots_hermite\n",
    "def gquad_hermite(b = 10, N=100):\n",
    "    x,w = roots_hermite(N) # hermite polynomial roots\n",
    "    a = 0\n",
    "    #xp = 0.5*(b-a)*x + 0.5*(b+a) # sample points, rescaled to bounds a,b\n",
    "    #wp = 0.5*(b-a)*w # rescale weights to bounds a, b\n",
    "    xp, wp = gaussxwab(N,a,b)\n",
    "    s = sum(integrand(xp)*wp) # add them up!\n",
    "    return s"
   ]
  },
  {
   "cell_type": "code",
   "execution_count": 4,
   "id": "3e37435c",
   "metadata": {},
   "outputs": [
    {
     "data": {
      "text/plain": [
       "Text(0, 0.5, 'f(x)')"
      ]
     },
     "execution_count": 4,
     "metadata": {},
     "output_type": "execute_result"
    },
    {
     "data": {
      "image/png": "[encoded data removed]",
      "text/plain": [
       "<Figure size 432x288 with 1 Axes>"
      ]
     },
     "metadata": {
      "needs_background": "light"
     },
     "output_type": "display_data"
    }
   ],
   "source": [
    "x = np.linspace(0,10,100)\n",
    "I = [gquad_hermite(xi) for xi in x]\n",
    "plt.plot(x,I)\n",
    "plt.plot(x, 0.5*x**2, linestyle = '--')\n",
    "plt.xlabel('x')\n",
    "plt.ylabel(r'f(x)')"
   ]
  },
  {
   "cell_type": "code",
   "execution_count": null,
   "id": "7045e59f",
   "metadata": {},
   "outputs": [],
   "source": []
  }
 ],
 "metadata": {
  "kernelspec": {
   "display_name": "Python 3",
   "language": "python",
   "name": "python3"
  },
  "language_info": {
   "codemirror_mode": {
    "name": "ipython",
    "version": 3
   },
   "file_extension": ".py",
   "mimetype": "text/x-python",
   "name": "python",
   "nbconvert_exporter": "python",
   "pygments_lexer": "ipython3",
   "version": "3.8.8"
  }
 },
 "nbformat": 4,
 "nbformat_minor": 5
}
